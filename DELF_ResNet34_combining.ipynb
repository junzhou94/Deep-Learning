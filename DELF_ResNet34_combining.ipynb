{
 "cells": [
  {
   "cell_type": "code",
   "execution_count": 1,
   "metadata": {},
   "outputs": [],
   "source": [
    "import os\n",
    "import csv\n",
    "import numpy as np\n",
    "import pandas as pd\n",
    "import scipy\n",
    "import matplotlib.pyplot as plt\n",
    "from sklearn.model_selection import train_test_split\n",
    "\n",
    "%matplotlib inline"
   ]
  },
  {
   "cell_type": "code",
   "execution_count": 256,
   "metadata": {},
   "outputs": [
    {
     "data": {
      "text/plain": [
       "(117703, 2)"
      ]
     },
     "execution_count": 256,
     "metadata": {},
     "output_type": "execute_result"
    }
   ],
   "source": [
    "df = pd.read_csv('submission_20_original.csv')   # the latest is 20\n",
    "df_sample = pd.read_csv('sample_submission.csv')[['id']]\n",
    "\n",
    "df_1 = pd.read_csv('labels_DELF1_0_15000.csv')\n",
    "df_2 = pd.read_csv('labels_DELF1_15000_30000.csv')\n",
    "df_3 = pd.read_csv('labels_DELF1_30000_45000.csv')\n",
    "df_4 = pd.read_csv('labels_DELF1_45000_60000.csv')\n",
    "df_5 = pd.read_csv('labels_DELF1_60000_75000.csv')\n",
    "df_6 = pd.read_csv('labels_DELF1_75000_90000.csv')\n",
    "df_7 = pd.read_csv('labels_DELF1_90000_100000.csv')\n",
    "df_8 = pd.read_csv('labels_DELF1_100000_110000.csv')\n",
    "df_9 = pd.read_csv('labels_DELF1_110000_120000.csv')\n",
    "frames = [df_1, df_2, df_3, df_4, df_5, df_6, df_7, df_8, df_9] \n",
    "\n",
    "df_labels = pd.concat(frames, axis = 0).reset_index()\n",
    "df_labels.shape"
   ]
  },
  {
   "cell_type": "code",
   "execution_count": 257,
   "metadata": {},
   "outputs": [
    {
     "data": {
      "text/plain": [
       "(117703, 1)"
      ]
     },
     "execution_count": 257,
     "metadata": {},
     "output_type": "execute_result"
    }
   ],
   "source": [
    "df_sample.shape"
   ]
  },
  {
   "cell_type": "code",
   "execution_count": 258,
   "metadata": {},
   "outputs": [
    {
     "data": {
      "text/plain": [
       "(65960, 2)"
      ]
     },
     "execution_count": 258,
     "metadata": {},
     "output_type": "execute_result"
    }
   ],
   "source": [
    "# result of DELF filtering I\n",
    "\n",
    "censor = 180   # for submission 20\n",
    "\n",
    "drop_idx = df_labels[df_labels['0'] <= censor].index\n",
    "df = df.drop(drop_idx, axis = 0)\n",
    "df.shape"
   ]
  },
  {
   "cell_type": "code",
   "execution_count": 259,
   "metadata": {},
   "outputs": [
    {
     "data": {
      "text/html": [
       "<div>\n",
       "<style scoped>\n",
       "    .dataframe tbody tr th:only-of-type {\n",
       "        vertical-align: middle;\n",
       "    }\n",
       "\n",
       "    .dataframe tbody tr th {\n",
       "        vertical-align: top;\n",
       "    }\n",
       "\n",
       "    .dataframe thead th {\n",
       "        text-align: right;\n",
       "    }\n",
       "</style>\n",
       "<table border=\"1\" class=\"dataframe\">\n",
       "  <thead>\n",
       "    <tr style=\"text-align: right;\">\n",
       "      <th></th>\n",
       "      <th>id</th>\n",
       "      <th>landmarks</th>\n",
       "    </tr>\n",
       "  </thead>\n",
       "  <tbody>\n",
       "    <tr>\n",
       "      <th>0</th>\n",
       "      <td>000088da12d664db</td>\n",
       "      <td>14255 0.26008448004722595</td>\n",
       "    </tr>\n",
       "    <tr>\n",
       "      <th>4</th>\n",
       "      <td>000270c9100de789</td>\n",
       "      <td>4404 0.4304988384246826</td>\n",
       "    </tr>\n",
       "    <tr>\n",
       "      <th>5</th>\n",
       "      <td>0002b0fab5d3ccc4</td>\n",
       "      <td>11491 0.546776294708252</td>\n",
       "    </tr>\n",
       "    <tr>\n",
       "      <th>9</th>\n",
       "      <td>0005456a82264bc8</td>\n",
       "      <td>4404 0.30132150650024414</td>\n",
       "    </tr>\n",
       "    <tr>\n",
       "      <th>10</th>\n",
       "      <td>00055cf2bfb5594a</td>\n",
       "      <td>10184 0.597339928150177</td>\n",
       "    </tr>\n",
       "  </tbody>\n",
       "</table>\n",
       "</div>"
      ],
      "text/plain": [
       "                  id                  landmarks\n",
       "0   000088da12d664db  14255 0.26008448004722595\n",
       "4   000270c9100de789    4404 0.4304988384246826\n",
       "5   0002b0fab5d3ccc4    11491 0.546776294708252\n",
       "9   0005456a82264bc8   4404 0.30132150650024414\n",
       "10  00055cf2bfb5594a    10184 0.597339928150177"
      ]
     },
     "execution_count": 259,
     "metadata": {},
     "output_type": "execute_result"
    }
   ],
   "source": [
    "df.head()"
   ]
  },
  {
   "cell_type": "code",
   "execution_count": 260,
   "metadata": {},
   "outputs": [
    {
     "data": {
      "text/plain": [
       "(51743,)"
      ]
     },
     "execution_count": 260,
     "metadata": {},
     "output_type": "execute_result"
    }
   ],
   "source": [
    "drop_idx.shape"
   ]
  },
  {
   "cell_type": "code",
   "execution_count": 261,
   "metadata": {},
   "outputs": [
    {
     "data": {
      "text/html": [
       "<div>\n",
       "<style scoped>\n",
       "    .dataframe tbody tr th:only-of-type {\n",
       "        vertical-align: middle;\n",
       "    }\n",
       "\n",
       "    .dataframe tbody tr th {\n",
       "        vertical-align: top;\n",
       "    }\n",
       "\n",
       "    .dataframe thead th {\n",
       "        text-align: right;\n",
       "    }\n",
       "</style>\n",
       "<table border=\"1\" class=\"dataframe\">\n",
       "  <thead>\n",
       "    <tr style=\"text-align: right;\">\n",
       "      <th></th>\n",
       "      <th>id</th>\n",
       "      <th>landmarks</th>\n",
       "    </tr>\n",
       "  </thead>\n",
       "  <tbody>\n",
       "  </tbody>\n",
       "</table>\n",
       "</div>"
      ],
      "text/plain": [
       "Empty DataFrame\n",
       "Columns: [id, landmarks]\n",
       "Index: []"
      ]
     },
     "execution_count": 261,
     "metadata": {},
     "output_type": "execute_result"
    }
   ],
   "source": [
    "df[df['landmarks'].isnull()]   # check"
   ]
  },
  {
   "cell_type": "code",
   "execution_count": 262,
   "metadata": {},
   "outputs": [
    {
     "name": "stdout",
     "output_type": "stream",
     "text": [
      "(40283, 2)\n"
     ]
    }
   ],
   "source": [
    "threshold = 0.4  # 0.4 for submission 20\n",
    "\n",
    "df_tmp = df.dropna(how = 'any')\n",
    "df_tmp['landmark_id'] = df_tmp['landmarks'].apply(lambda x: int(str(x).split(' ')[0]))\n",
    "df_tmp['confidence'] = df_tmp['landmarks'].apply(lambda x: float(str(x).split(' ')[-1]))\n",
    "df_tmp[['confidence']].describe()\n",
    "\n",
    "df_tmp = df_tmp[df_tmp['confidence'] > threshold]\n",
    "#df_tmp = df_tmp[np.logical_and(df_tmp['confidence'] > threshold, df_tmp['confidence'] < threshold * 5)]\n",
    "df_tmp = df_tmp.drop(['landmark_id', 'confidence'], axis = 1)\n",
    "print(df_tmp.shape)"
   ]
  },
  {
   "cell_type": "code",
   "execution_count": 263,
   "metadata": {},
   "outputs": [
    {
     "data": {
      "text/html": [
       "<div>\n",
       "<style scoped>\n",
       "    .dataframe tbody tr th:only-of-type {\n",
       "        vertical-align: middle;\n",
       "    }\n",
       "\n",
       "    .dataframe tbody tr th {\n",
       "        vertical-align: top;\n",
       "    }\n",
       "\n",
       "    .dataframe thead th {\n",
       "        text-align: right;\n",
       "    }\n",
       "</style>\n",
       "<table border=\"1\" class=\"dataframe\">\n",
       "  <thead>\n",
       "    <tr style=\"text-align: right;\">\n",
       "      <th></th>\n",
       "      <th>id</th>\n",
       "      <th>landmarks</th>\n",
       "    </tr>\n",
       "  </thead>\n",
       "  <tbody>\n",
       "    <tr>\n",
       "      <th>4</th>\n",
       "      <td>000270c9100de789</td>\n",
       "      <td>4404 0.4304988384246826</td>\n",
       "    </tr>\n",
       "    <tr>\n",
       "      <th>5</th>\n",
       "      <td>0002b0fab5d3ccc4</td>\n",
       "      <td>11491 0.546776294708252</td>\n",
       "    </tr>\n",
       "    <tr>\n",
       "      <th>10</th>\n",
       "      <td>00055cf2bfb5594a</td>\n",
       "      <td>10184 0.597339928150177</td>\n",
       "    </tr>\n",
       "    <tr>\n",
       "      <th>12</th>\n",
       "      <td>0006aea5b6f4eaaa</td>\n",
       "      <td>6603 0.9498259425163269</td>\n",
       "    </tr>\n",
       "    <tr>\n",
       "      <th>13</th>\n",
       "      <td>0006bbfa00dd6c0f</td>\n",
       "      <td>9779 0.5040563344955444</td>\n",
       "    </tr>\n",
       "  </tbody>\n",
       "</table>\n",
       "</div>"
      ],
      "text/plain": [
       "                  id                landmarks\n",
       "4   000270c9100de789  4404 0.4304988384246826\n",
       "5   0002b0fab5d3ccc4  11491 0.546776294708252\n",
       "10  00055cf2bfb5594a  10184 0.597339928150177\n",
       "12  0006aea5b6f4eaaa  6603 0.9498259425163269\n",
       "13  0006bbfa00dd6c0f  9779 0.5040563344955444"
      ]
     },
     "execution_count": 263,
     "metadata": {},
     "output_type": "execute_result"
    }
   ],
   "source": [
    "df_tmp.head()"
   ]
  },
  {
   "cell_type": "code",
   "execution_count": 264,
   "metadata": {},
   "outputs": [],
   "source": [
    "df = df_tmp"
   ]
  },
  {
   "cell_type": "code",
   "execution_count": 265,
   "metadata": {},
   "outputs": [
    {
     "data": {
      "text/plain": [
       "(40283, 4)"
      ]
     },
     "execution_count": 265,
     "metadata": {},
     "output_type": "execute_result"
    }
   ],
   "source": [
    "# result of DELF filtering II\n",
    "\n",
    "test_revised = pd.read_csv('test_revised_based_on_20.csv')\n",
    "test_revised = test_revised.sort_values(by = 'confidence', ascending = False)\n",
    "test_revised = test_revised.sort_values(by = 'landmark_id', ascending = True)\n",
    "test_revised = test_revised.reset_index().drop('index', axis = 1)\n",
    "test_revised.shape"
   ]
  },
  {
   "cell_type": "code",
   "execution_count": 266,
   "metadata": {},
   "outputs": [
    {
     "data": {
      "text/plain": [
       "(40283, 6)"
      ]
     },
     "execution_count": 266,
     "metadata": {},
     "output_type": "execute_result"
    }
   ],
   "source": [
    "df_1 = pd.read_csv('labels_DELF2_sub20_0_2500.csv')\n",
    "df_2 = pd.read_csv('labels_DELF2_sub20_2500_5000.csv')\n",
    "df_3 = pd.read_csv('labels_DELF2_sub20_5000_7500.csv')\n",
    "df_4 = pd.read_csv('labels_DELF2_sub20_7500_9700.csv')\n",
    "df_5 = pd.read_csv('labels_DELF2_sub20_9700_11170.csv')\n",
    "df_6 = pd.read_csv('labels_DELF2_sub20_11170_11600.csv')\n",
    "df_7 = pd.read_csv('labels_DELF2_sub20_11600_12000.csv')\n",
    "df_8 = pd.read_csv('labels_DELF2_sub20_12000_14100.csv')\n",
    "df_9 = pd.read_csv('labels_DELF2_sub20_14100_14951.csv')\n",
    "\n",
    "frames = [df_1, df_2, df_3, df_4, df_5, df_6, df_7, df_8, df_9] \n",
    "df_labels_2 = pd.concat(frames, axis = 0).reset_index().drop('index', axis = 1)\n",
    "df_labels_2.shape"
   ]
  },
  {
   "cell_type": "code",
   "execution_count": 268,
   "metadata": {},
   "outputs": [
    {
     "data": {
      "text/html": [
       "<div>\n",
       "<style scoped>\n",
       "    .dataframe tbody tr th:only-of-type {\n",
       "        vertical-align: middle;\n",
       "    }\n",
       "\n",
       "    .dataframe tbody tr th {\n",
       "        vertical-align: top;\n",
       "    }\n",
       "\n",
       "    .dataframe thead th {\n",
       "        text-align: right;\n",
       "    }\n",
       "</style>\n",
       "<table border=\"1\" class=\"dataframe\">\n",
       "  <thead>\n",
       "    <tr style=\"text-align: right;\">\n",
       "      <th></th>\n",
       "      <th>0</th>\n",
       "      <th>1</th>\n",
       "      <th>2</th>\n",
       "      <th>3</th>\n",
       "      <th>4</th>\n",
       "      <th>5</th>\n",
       "    </tr>\n",
       "  </thead>\n",
       "  <tbody>\n",
       "    <tr>\n",
       "      <th>0</th>\n",
       "      <td>22</td>\n",
       "      <td>14.75</td>\n",
       "      <td>14</td>\n",
       "      <td>11.25</td>\n",
       "      <td>8</td>\n",
       "      <td>7.25</td>\n",
       "    </tr>\n",
       "    <tr>\n",
       "      <th>1</th>\n",
       "      <td>21</td>\n",
       "      <td>14.75</td>\n",
       "      <td>17</td>\n",
       "      <td>11.50</td>\n",
       "      <td>9</td>\n",
       "      <td>6.75</td>\n",
       "    </tr>\n",
       "    <tr>\n",
       "      <th>2</th>\n",
       "      <td>38</td>\n",
       "      <td>26.00</td>\n",
       "      <td>20</td>\n",
       "      <td>14.25</td>\n",
       "      <td>11</td>\n",
       "      <td>8.00</td>\n",
       "    </tr>\n",
       "    <tr>\n",
       "      <th>3</th>\n",
       "      <td>52</td>\n",
       "      <td>37.50</td>\n",
       "      <td>27</td>\n",
       "      <td>17.25</td>\n",
       "      <td>19</td>\n",
       "      <td>11.00</td>\n",
       "    </tr>\n",
       "    <tr>\n",
       "      <th>4</th>\n",
       "      <td>82</td>\n",
       "      <td>66.00</td>\n",
       "      <td>19</td>\n",
       "      <td>16.00</td>\n",
       "      <td>18</td>\n",
       "      <td>14.00</td>\n",
       "    </tr>\n",
       "  </tbody>\n",
       "</table>\n",
       "</div>"
      ],
      "text/plain": [
       "    0      1   2      3   4      5\n",
       "0  22  14.75  14  11.25   8   7.25\n",
       "1  21  14.75  17  11.50   9   6.75\n",
       "2  38  26.00  20  14.25  11   8.00\n",
       "3  52  37.50  27  17.25  19  11.00\n",
       "4  82  66.00  19  16.00  18  14.00"
      ]
     },
     "execution_count": 268,
     "metadata": {},
     "output_type": "execute_result"
    }
   ],
   "source": [
    "df_labels_2.head()"
   ]
  },
  {
   "cell_type": "code",
   "execution_count": 269,
   "metadata": {},
   "outputs": [
    {
     "data": {
      "text/html": [
       "<div>\n",
       "<style scoped>\n",
       "    .dataframe tbody tr th:only-of-type {\n",
       "        vertical-align: middle;\n",
       "    }\n",
       "\n",
       "    .dataframe tbody tr th {\n",
       "        vertical-align: top;\n",
       "    }\n",
       "\n",
       "    .dataframe thead th {\n",
       "        text-align: right;\n",
       "    }\n",
       "</style>\n",
       "<table border=\"1\" class=\"dataframe\">\n",
       "  <thead>\n",
       "    <tr style=\"text-align: right;\">\n",
       "      <th></th>\n",
       "      <th>id</th>\n",
       "      <th>landmark_id</th>\n",
       "      <th>confidence</th>\n",
       "      <th>0</th>\n",
       "      <th>1</th>\n",
       "      <th>2</th>\n",
       "      <th>3</th>\n",
       "      <th>4</th>\n",
       "      <th>5</th>\n",
       "    </tr>\n",
       "  </thead>\n",
       "  <tbody>\n",
       "    <tr>\n",
       "      <th>0</th>\n",
       "      <td>9dcd24b41ff39a0e</td>\n",
       "      <td>0</td>\n",
       "      <td>0.740219</td>\n",
       "      <td>22</td>\n",
       "      <td>14.75</td>\n",
       "      <td>14</td>\n",
       "      <td>11.25</td>\n",
       "      <td>8</td>\n",
       "      <td>7.25</td>\n",
       "    </tr>\n",
       "    <tr>\n",
       "      <th>1</th>\n",
       "      <td>567a180372a293fe</td>\n",
       "      <td>3</td>\n",
       "      <td>0.998385</td>\n",
       "      <td>21</td>\n",
       "      <td>14.75</td>\n",
       "      <td>17</td>\n",
       "      <td>11.50</td>\n",
       "      <td>9</td>\n",
       "      <td>6.75</td>\n",
       "    </tr>\n",
       "    <tr>\n",
       "      <th>2</th>\n",
       "      <td>a30c99f77e48a7c2</td>\n",
       "      <td>7</td>\n",
       "      <td>0.470665</td>\n",
       "      <td>38</td>\n",
       "      <td>26.00</td>\n",
       "      <td>20</td>\n",
       "      <td>14.25</td>\n",
       "      <td>11</td>\n",
       "      <td>8.00</td>\n",
       "    </tr>\n",
       "    <tr>\n",
       "      <th>3</th>\n",
       "      <td>ab125199bd343017</td>\n",
       "      <td>11</td>\n",
       "      <td>0.832278</td>\n",
       "      <td>52</td>\n",
       "      <td>37.50</td>\n",
       "      <td>27</td>\n",
       "      <td>17.25</td>\n",
       "      <td>19</td>\n",
       "      <td>11.00</td>\n",
       "    </tr>\n",
       "    <tr>\n",
       "      <th>4</th>\n",
       "      <td>fae1178f794f297a</td>\n",
       "      <td>12</td>\n",
       "      <td>0.921411</td>\n",
       "      <td>82</td>\n",
       "      <td>66.00</td>\n",
       "      <td>19</td>\n",
       "      <td>16.00</td>\n",
       "      <td>18</td>\n",
       "      <td>14.00</td>\n",
       "    </tr>\n",
       "  </tbody>\n",
       "</table>\n",
       "</div>"
      ],
      "text/plain": [
       "                 id  landmark_id  confidence   0      1   2      3   4      5\n",
       "0  9dcd24b41ff39a0e            0    0.740219  22  14.75  14  11.25   8   7.25\n",
       "1  567a180372a293fe            3    0.998385  21  14.75  17  11.50   9   6.75\n",
       "2  a30c99f77e48a7c2            7    0.470665  38  26.00  20  14.25  11   8.00\n",
       "3  ab125199bd343017           11    0.832278  52  37.50  27  17.25  19  11.00\n",
       "4  fae1178f794f297a           12    0.921411  82  66.00  19  16.00  18  14.00"
      ]
     },
     "execution_count": 269,
     "metadata": {},
     "output_type": "execute_result"
    }
   ],
   "source": [
    "test_revised = pd.concat([test_revised, df_labels_2], axis = 1).drop('landmarks', axis = 1)\n",
    "test_revised.head()"
   ]
  },
  {
   "cell_type": "code",
   "execution_count": 270,
   "metadata": {},
   "outputs": [
    {
     "data": {
      "text/html": [
       "<div>\n",
       "<style scoped>\n",
       "    .dataframe tbody tr th:only-of-type {\n",
       "        vertical-align: middle;\n",
       "    }\n",
       "\n",
       "    .dataframe tbody tr th {\n",
       "        vertical-align: top;\n",
       "    }\n",
       "\n",
       "    .dataframe thead th {\n",
       "        text-align: right;\n",
       "    }\n",
       "</style>\n",
       "<table border=\"1\" class=\"dataframe\">\n",
       "  <thead>\n",
       "    <tr style=\"text-align: right;\">\n",
       "      <th></th>\n",
       "      <th>id</th>\n",
       "      <th>landmarks</th>\n",
       "      <th>landmark_id</th>\n",
       "      <th>confidence</th>\n",
       "      <th>0</th>\n",
       "      <th>1</th>\n",
       "      <th>2</th>\n",
       "      <th>3</th>\n",
       "      <th>4</th>\n",
       "      <th>5</th>\n",
       "    </tr>\n",
       "  </thead>\n",
       "  <tbody>\n",
       "    <tr>\n",
       "      <th>0</th>\n",
       "      <td>000270c9100de789</td>\n",
       "      <td>4404 0.4304988384246826</td>\n",
       "      <td>4404</td>\n",
       "      <td>0.430499</td>\n",
       "      <td>25</td>\n",
       "      <td>13.50</td>\n",
       "      <td>17</td>\n",
       "      <td>9.75</td>\n",
       "      <td>10</td>\n",
       "      <td>6.50</td>\n",
       "    </tr>\n",
       "    <tr>\n",
       "      <th>1</th>\n",
       "      <td>0002b0fab5d3ccc4</td>\n",
       "      <td>11491 0.546776294708252</td>\n",
       "      <td>11491</td>\n",
       "      <td>0.546776</td>\n",
       "      <td>35</td>\n",
       "      <td>16.75</td>\n",
       "      <td>12</td>\n",
       "      <td>9.50</td>\n",
       "      <td>11</td>\n",
       "      <td>7.00</td>\n",
       "    </tr>\n",
       "    <tr>\n",
       "      <th>2</th>\n",
       "      <td>00055cf2bfb5594a</td>\n",
       "      <td>10184 0.597339928150177</td>\n",
       "      <td>10184</td>\n",
       "      <td>0.597340</td>\n",
       "      <td>26</td>\n",
       "      <td>16.75</td>\n",
       "      <td>12</td>\n",
       "      <td>9.25</td>\n",
       "      <td>12</td>\n",
       "      <td>8.50</td>\n",
       "    </tr>\n",
       "    <tr>\n",
       "      <th>3</th>\n",
       "      <td>0006aea5b6f4eaaa</td>\n",
       "      <td>6603 0.9498259425163269</td>\n",
       "      <td>6603</td>\n",
       "      <td>0.949826</td>\n",
       "      <td>71</td>\n",
       "      <td>45.25</td>\n",
       "      <td>34</td>\n",
       "      <td>24.00</td>\n",
       "      <td>16</td>\n",
       "      <td>12.75</td>\n",
       "    </tr>\n",
       "    <tr>\n",
       "      <th>4</th>\n",
       "      <td>0006bbfa00dd6c0f</td>\n",
       "      <td>9779 0.5040563344955444</td>\n",
       "      <td>9779</td>\n",
       "      <td>0.504056</td>\n",
       "      <td>53</td>\n",
       "      <td>21.75</td>\n",
       "      <td>31</td>\n",
       "      <td>13.00</td>\n",
       "      <td>15</td>\n",
       "      <td>8.50</td>\n",
       "    </tr>\n",
       "  </tbody>\n",
       "</table>\n",
       "</div>"
      ],
      "text/plain": [
       "                 id                landmarks  landmark_id  confidence   0  \\\n",
       "0  000270c9100de789  4404 0.4304988384246826         4404    0.430499  25   \n",
       "1  0002b0fab5d3ccc4  11491 0.546776294708252        11491    0.546776  35   \n",
       "2  00055cf2bfb5594a  10184 0.597339928150177        10184    0.597340  26   \n",
       "3  0006aea5b6f4eaaa  6603 0.9498259425163269         6603    0.949826  71   \n",
       "4  0006bbfa00dd6c0f  9779 0.5040563344955444         9779    0.504056  53   \n",
       "\n",
       "       1   2      3   4      5  \n",
       "0  13.50  17   9.75  10   6.50  \n",
       "1  16.75  12   9.50  11   7.00  \n",
       "2  16.75  12   9.25  12   8.50  \n",
       "3  45.25  34  24.00  16  12.75  \n",
       "4  21.75  31  13.00  15   8.50  "
      ]
     },
     "execution_count": 270,
     "metadata": {},
     "output_type": "execute_result"
    }
   ],
   "source": [
    "df_new = df.merge(test_revised, how = 'left', on = 'id')\n",
    "df_new.head()"
   ]
  },
  {
   "cell_type": "code",
   "execution_count": 271,
   "metadata": {},
   "outputs": [],
   "source": [
    "df = df_new"
   ]
  },
  {
   "cell_type": "code",
   "execution_count": 272,
   "metadata": {},
   "outputs": [
    {
     "data": {
      "text/html": [
       "<div>\n",
       "<style scoped>\n",
       "    .dataframe tbody tr th:only-of-type {\n",
       "        vertical-align: middle;\n",
       "    }\n",
       "\n",
       "    .dataframe tbody tr th {\n",
       "        vertical-align: top;\n",
       "    }\n",
       "\n",
       "    .dataframe thead th {\n",
       "        text-align: right;\n",
       "    }\n",
       "</style>\n",
       "<table border=\"1\" class=\"dataframe\">\n",
       "  <thead>\n",
       "    <tr style=\"text-align: right;\">\n",
       "      <th></th>\n",
       "      <th>confidence</th>\n",
       "    </tr>\n",
       "  </thead>\n",
       "  <tbody>\n",
       "    <tr>\n",
       "      <th>count</th>\n",
       "      <td>40283.000000</td>\n",
       "    </tr>\n",
       "    <tr>\n",
       "      <th>mean</th>\n",
       "      <td>0.673755</td>\n",
       "    </tr>\n",
       "    <tr>\n",
       "      <th>std</th>\n",
       "      <td>0.183091</td>\n",
       "    </tr>\n",
       "    <tr>\n",
       "      <th>min</th>\n",
       "      <td>0.400015</td>\n",
       "    </tr>\n",
       "    <tr>\n",
       "      <th>25%</th>\n",
       "      <td>0.509428</td>\n",
       "    </tr>\n",
       "    <tr>\n",
       "      <th>50%</th>\n",
       "      <td>0.650096</td>\n",
       "    </tr>\n",
       "    <tr>\n",
       "      <th>75%</th>\n",
       "      <td>0.833801</td>\n",
       "    </tr>\n",
       "    <tr>\n",
       "      <th>max</th>\n",
       "      <td>1.000000</td>\n",
       "    </tr>\n",
       "  </tbody>\n",
       "</table>\n",
       "</div>"
      ],
      "text/plain": [
       "         confidence\n",
       "count  40283.000000\n",
       "mean       0.673755\n",
       "std        0.183091\n",
       "min        0.400015\n",
       "25%        0.509428\n",
       "50%        0.650096\n",
       "75%        0.833801\n",
       "max        1.000000"
      ]
     },
     "execution_count": 272,
     "metadata": {},
     "output_type": "execute_result"
    }
   ],
   "source": [
    "threshold = 0\n",
    "\n",
    "df_tmp = df.dropna(how = 'any')\n",
    "df_tmp[['confidence']].describe()"
   ]
  },
  {
   "cell_type": "code",
   "execution_count": 40,
   "metadata": {},
   "outputs": [
    {
     "data": {
      "text/html": [
       "<div>\n",
       "<style scoped>\n",
       "    .dataframe tbody tr th:only-of-type {\n",
       "        vertical-align: middle;\n",
       "    }\n",
       "\n",
       "    .dataframe tbody tr th {\n",
       "        vertical-align: top;\n",
       "    }\n",
       "\n",
       "    .dataframe thead th {\n",
       "        text-align: right;\n",
       "    }\n",
       "</style>\n",
       "<table border=\"1\" class=\"dataframe\">\n",
       "  <thead>\n",
       "    <tr style=\"text-align: right;\">\n",
       "      <th></th>\n",
       "      <th>5</th>\n",
       "    </tr>\n",
       "  </thead>\n",
       "  <tbody>\n",
       "    <tr>\n",
       "      <th>count</th>\n",
       "      <td>40283.000000</td>\n",
       "    </tr>\n",
       "    <tr>\n",
       "      <th>mean</th>\n",
       "      <td>9.121116</td>\n",
       "    </tr>\n",
       "    <tr>\n",
       "      <th>std</th>\n",
       "      <td>12.195929</td>\n",
       "    </tr>\n",
       "    <tr>\n",
       "      <th>min</th>\n",
       "      <td>0.000000</td>\n",
       "    </tr>\n",
       "    <tr>\n",
       "      <th>25%</th>\n",
       "      <td>5.000000</td>\n",
       "    </tr>\n",
       "    <tr>\n",
       "      <th>50%</th>\n",
       "      <td>7.500000</td>\n",
       "    </tr>\n",
       "    <tr>\n",
       "      <th>75%</th>\n",
       "      <td>11.250000</td>\n",
       "    </tr>\n",
       "    <tr>\n",
       "      <th>max</th>\n",
       "      <td>200.000000</td>\n",
       "    </tr>\n",
       "  </tbody>\n",
       "</table>\n",
       "</div>"
      ],
      "text/plain": [
       "                  5\n",
       "count  40283.000000\n",
       "mean       9.121116\n",
       "std       12.195929\n",
       "min        0.000000\n",
       "25%        5.000000\n",
       "50%        7.500000\n",
       "75%       11.250000\n",
       "max      200.000000"
      ]
     },
     "execution_count": 40,
     "metadata": {},
     "output_type": "execute_result"
    }
   ],
   "source": [
    "df_tmp[['5']].describe()"
   ]
  },
  {
   "cell_type": "code",
   "execution_count": 41,
   "metadata": {},
   "outputs": [
    {
     "data": {
      "text/plain": [
       "array([  6.5       ,   7.        ,   8.5       ,  12.75      ,\n",
       "        11.        ,  13.5       ,  19.25      ,   4.        ,\n",
       "         4.5       ,   6.        ,  14.75      ,   9.5       ,\n",
       "         3.25      ,  14.33333333,   9.        ,  13.75      ,\n",
       "         6.75      ,  14.        ,   7.5       ,   8.25      ,\n",
       "        14.25      ,   2.5       ,   0.5       , 200.        ,\n",
       "         5.        ,  10.75      ,  12.25      ,   1.5       ,\n",
       "        17.        ,   8.        ,   4.25      ,  19.5       ,\n",
       "         5.25      ,   5.75      ,   6.25      ,   4.75      ,\n",
       "         1.25      ,  16.25      ,   1.75      ,  13.        ,\n",
       "        10.        ,   2.25      ,  12.5       ,   2.75      ,\n",
       "         7.25      ,  11.5       ,  16.75      ,  12.        ,\n",
       "         2.        ,  15.        ,   8.75      ,   9.75      ,\n",
       "         9.66666667,  10.5       ,  11.25      ,  24.        ,\n",
       "        16.        ,  20.        ,   3.        ,  22.5       ,\n",
       "         7.75      ,   0.75      ,  14.5       ,  18.25      ,\n",
       "         3.75      ,  18.75      ,  10.25      ,   3.5       ,\n",
       "        15.75      ,  19.75      ,  15.25      ,  20.5       ,\n",
       "        19.        ,  11.66666667,   8.33333333,  21.75      ,\n",
       "        15.5       ,   5.5       ,  23.25      ,  25.75      ,\n",
       "        29.75      ,  13.25      ,  11.75      ,   9.25      ,\n",
       "        17.75      ,  16.5       ,   6.33333333,  10.33333333,\n",
       "         1.        ,  19.33333333,   5.66666667,   8.66666667,\n",
       "        44.25      ,  18.        ,  22.75      ,  20.25      ,\n",
       "         0.        ,  22.        ,  13.66666667,  49.5       ,\n",
       "         5.33333333,  21.25      ,  17.25      ,  12.33333333,\n",
       "        19.66666667,   6.66666667,   9.33333333,  13.33333333,\n",
       "        11.33333333,  21.        ,  20.75      ,  26.        ,\n",
       "        17.5       ,  24.5       ,  25.25      ,  18.5       ,\n",
       "         2.66666667,  12.66666667,  23.5       ,  72.        ,\n",
       "         4.66666667,  27.25      ,  30.        ,  26.5       ,\n",
       "         7.66666667,   3.33333333,  74.75      ,  23.75      ,\n",
       "        17.33333333,  32.25      ,   3.66666667,  40.5       ,\n",
       "        23.        ,   7.33333333,  18.33333333,  21.5       ,\n",
       "        22.25      ,   4.33333333,  29.        ,  38.33333333,\n",
       "        26.75      ,  25.5       ,  68.5       ,   0.66666667,\n",
       "        76.        ,  24.25      ,  20.33333333,  28.        ,\n",
       "        27.        ,  16.66666667,  18.66666667,   2.33333333,\n",
       "         1.66666667,  27.75      ,  27.5       ,  10.66666667,\n",
       "        24.66666667,  33.5       ,  33.25      ,  42.        ,\n",
       "        14.66666667,  21.66666667,  22.33333333,  35.25      ,\n",
       "        36.5       ,  28.75      ,  15.66666667,  34.25      ,\n",
       "         1.33333333,  31.5       ,  28.25      ,  16.33333333,\n",
       "        30.25      ,  33.        ,  35.5       ,  28.5       ,\n",
       "        56.75      ,  31.        ,  24.75      ,  25.        ,\n",
       "        39.75      ,  32.        ,  15.33333333,  17.66666667,\n",
       "        22.66666667,  43.25      ,  52.5       ,  26.25      ,\n",
       "        21.33333333,  20.66666667,  36.25      ,  34.        ,\n",
       "        30.5       ,  52.        ,  29.25      ,  31.25      ,\n",
       "        39.5       ,  56.        ,  58.75      ,  69.        ,\n",
       "        35.75      ,  23.66666667,  32.5       ,  29.33333333,\n",
       "        20.66666667,  62.25      ,  34.5       ,  54.        ,\n",
       "        44.5       ,  42.5       ,   7.33333333,  31.75      ,\n",
       "        50.25      ,  33.75      ,  37.25      ,  43.        ,\n",
       "        35.        ,  44.        ,  47.75      ,  55.        ,\n",
       "         0.25      ,  61.5       ,  34.75      ,  39.        ,\n",
       "        41.5       ,   1.33333333,  26.33333333,  45.5       ,\n",
       "         8.66666667,  47.25      ,  38.        ,  29.5       ,\n",
       "        14.33333333,  46.5       ,  70.75      ,  30.75      ,\n",
       "        59.        ,  49.75      ,  41.25      ,  37.5       ,\n",
       "        32.75      ,  39.25      ,  40.        ])"
      ]
     },
     "execution_count": 41,
     "metadata": {},
     "output_type": "execute_result"
    }
   ],
   "source": [
    "pd.unique(df_tmp['5'])"
   ]
  },
  {
   "cell_type": "code",
   "execution_count": 273,
   "metadata": {},
   "outputs": [
    {
     "name": "stdout",
     "output_type": "stream",
     "text": [
      "(477, 3)\n"
     ]
    }
   ],
   "source": [
    "threshold_2 = 24.25\n",
    "\n",
    "df_tmp = df_tmp[df_tmp['confidence'] > threshold]\n",
    "df_tmp = df_tmp[np.logical_or(df_tmp['5'] == 22.25, df_tmp['5'] > threshold_2)]\n",
    "df_tmp = df_tmp.drop(['landmark_id', 'confidence', '0', '1', '2', '3', '4', '5'], axis = 1)\n",
    "print(df_tmp.shape)"
   ]
  },
  {
   "cell_type": "code",
   "execution_count": 234,
   "metadata": {},
   "outputs": [
    {
     "data": {
      "text/plain": [
       "(117703, 2)"
      ]
     },
     "execution_count": 234,
     "metadata": {},
     "output_type": "execute_result"
    }
   ],
   "source": [
    "df_final = df_sample.merge(df_tmp, how = 'left', on = 'id')\n",
    "df_final.to_csv('submission_118_5_22.25&24.25.csv', index = False)\n",
    "df_final.shape"
   ]
  },
  {
   "cell_type": "code",
   "execution_count": null,
   "metadata": {},
   "outputs": [],
   "source": []
  },
  {
   "cell_type": "code",
   "execution_count": null,
   "metadata": {},
   "outputs": [],
   "source": []
  }
 ],
 "metadata": {
  "kernelspec": {
   "display_name": "Python 3",
   "language": "python",
   "name": "python3"
  },
  "language_info": {
   "codemirror_mode": {
    "name": "ipython",
    "version": 3
   },
   "file_extension": ".py",
   "mimetype": "text/x-python",
   "name": "python",
   "nbconvert_exporter": "python",
   "pygments_lexer": "ipython3",
   "version": "3.6.4"
  }
 },
 "nbformat": 4,
 "nbformat_minor": 2
}
